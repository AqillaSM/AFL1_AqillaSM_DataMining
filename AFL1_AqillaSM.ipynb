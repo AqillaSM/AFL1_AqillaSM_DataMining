{
 "cells": [
  {
   "cell_type": "markdown",
   "metadata": {
    "id": "59lmf9GN_pz9"
   },
   "source": [
    "#Week 4: Supervised Learning - Classification - Iris\n",
    "-------------------------------------\n",
    "Lab exercise kali ini menggunakan dataset iris:\n",
    "https://raw.githubusercontent.com/catharinamega/Data-Mining-ISB-2020/main/Week%204/iris.csv\n",
    "\n",
    "Lakukan klasifikasi pada dataset tersebut dengan menggunakan 3 cara: Logistic Regression, Naive Bayes, dan K-Nearest Neighbor (dengan k=5)"
   ]
  },
  {
   "cell_type": "markdown",
   "metadata": {
    "id": "D-_Rri1ABBzs"
   },
   "source": [
    "## Import library"
   ]
  },
  {
   "cell_type": "code",
   "execution_count": 65,
   "metadata": {
    "id": "o7qqljwHAty2"
   },
   "outputs": [],
   "source": [
    "import numpy as np\n",
    "import matplotlib.pyplot as plt\n",
    "import pandas as pd\n",
    "import seaborn as sns\n",
    "from sklearn.model_selection import train_test_split\n",
    "from sklearn import metrics\n",
    "from sklearn.naive_bayes import GaussianNB\n",
    "from sklearn.neighbors import KNeighborsClassifier\n",
    "from sklearn.linear_model import LogisticRegression\n",
    "from sklearn.metrics import confusion_matrix\n",
    "from sklearn.metrics import accuracy_score"
   ]
  },
  {
   "cell_type": "markdown",
   "metadata": {
    "id": "SCknVHJuBFWF"
   },
   "source": [
    "## Load Dataset"
   ]
  },
  {
   "cell_type": "code",
   "execution_count": 66,
   "metadata": {
    "colab": {
     "base_uri": "https://localhost:8080/",
     "height": 206
    },
    "id": "r9FYMEXZAy0a",
    "outputId": "005ba917-33cf-4a67-9808-0679ba293fca"
   },
   "outputs": [
    {
     "data": {
      "text/html": [
       "<div>\n",
       "<style scoped>\n",
       "    .dataframe tbody tr th:only-of-type {\n",
       "        vertical-align: middle;\n",
       "    }\n",
       "\n",
       "    .dataframe tbody tr th {\n",
       "        vertical-align: top;\n",
       "    }\n",
       "\n",
       "    .dataframe thead th {\n",
       "        text-align: right;\n",
       "    }\n",
       "</style>\n",
       "<table border=\"1\" class=\"dataframe\">\n",
       "  <thead>\n",
       "    <tr style=\"text-align: right;\">\n",
       "      <th></th>\n",
       "      <th>sepal_length</th>\n",
       "      <th>sepal_width</th>\n",
       "      <th>petal_length</th>\n",
       "      <th>petal_width</th>\n",
       "      <th>species</th>\n",
       "    </tr>\n",
       "  </thead>\n",
       "  <tbody>\n",
       "    <tr>\n",
       "      <th>0</th>\n",
       "      <td>5.1</td>\n",
       "      <td>3.5</td>\n",
       "      <td>1.4</td>\n",
       "      <td>0.2</td>\n",
       "      <td>setosa</td>\n",
       "    </tr>\n",
       "    <tr>\n",
       "      <th>1</th>\n",
       "      <td>4.9</td>\n",
       "      <td>3.0</td>\n",
       "      <td>1.4</td>\n",
       "      <td>0.2</td>\n",
       "      <td>setosa</td>\n",
       "    </tr>\n",
       "    <tr>\n",
       "      <th>2</th>\n",
       "      <td>4.7</td>\n",
       "      <td>3.2</td>\n",
       "      <td>1.3</td>\n",
       "      <td>0.2</td>\n",
       "      <td>setosa</td>\n",
       "    </tr>\n",
       "    <tr>\n",
       "      <th>3</th>\n",
       "      <td>4.6</td>\n",
       "      <td>3.1</td>\n",
       "      <td>1.5</td>\n",
       "      <td>0.2</td>\n",
       "      <td>setosa</td>\n",
       "    </tr>\n",
       "    <tr>\n",
       "      <th>4</th>\n",
       "      <td>5.0</td>\n",
       "      <td>3.6</td>\n",
       "      <td>1.4</td>\n",
       "      <td>0.2</td>\n",
       "      <td>setosa</td>\n",
       "    </tr>\n",
       "    <tr>\n",
       "      <th>...</th>\n",
       "      <td>...</td>\n",
       "      <td>...</td>\n",
       "      <td>...</td>\n",
       "      <td>...</td>\n",
       "      <td>...</td>\n",
       "    </tr>\n",
       "    <tr>\n",
       "      <th>145</th>\n",
       "      <td>6.7</td>\n",
       "      <td>3.0</td>\n",
       "      <td>5.2</td>\n",
       "      <td>2.3</td>\n",
       "      <td>virginica</td>\n",
       "    </tr>\n",
       "    <tr>\n",
       "      <th>146</th>\n",
       "      <td>6.3</td>\n",
       "      <td>2.5</td>\n",
       "      <td>5.0</td>\n",
       "      <td>1.9</td>\n",
       "      <td>virginica</td>\n",
       "    </tr>\n",
       "    <tr>\n",
       "      <th>147</th>\n",
       "      <td>6.5</td>\n",
       "      <td>3.0</td>\n",
       "      <td>5.2</td>\n",
       "      <td>2.0</td>\n",
       "      <td>virginica</td>\n",
       "    </tr>\n",
       "    <tr>\n",
       "      <th>148</th>\n",
       "      <td>6.2</td>\n",
       "      <td>3.4</td>\n",
       "      <td>5.4</td>\n",
       "      <td>2.3</td>\n",
       "      <td>virginica</td>\n",
       "    </tr>\n",
       "    <tr>\n",
       "      <th>149</th>\n",
       "      <td>5.9</td>\n",
       "      <td>3.0</td>\n",
       "      <td>5.1</td>\n",
       "      <td>1.8</td>\n",
       "      <td>virginica</td>\n",
       "    </tr>\n",
       "  </tbody>\n",
       "</table>\n",
       "<p>150 rows × 5 columns</p>\n",
       "</div>"
      ],
      "text/plain": [
       "     sepal_length  sepal_width  petal_length  petal_width    species\n",
       "0             5.1          3.5           1.4          0.2     setosa\n",
       "1             4.9          3.0           1.4          0.2     setosa\n",
       "2             4.7          3.2           1.3          0.2     setosa\n",
       "3             4.6          3.1           1.5          0.2     setosa\n",
       "4             5.0          3.6           1.4          0.2     setosa\n",
       "..            ...          ...           ...          ...        ...\n",
       "145           6.7          3.0           5.2          2.3  virginica\n",
       "146           6.3          2.5           5.0          1.9  virginica\n",
       "147           6.5          3.0           5.2          2.0  virginica\n",
       "148           6.2          3.4           5.4          2.3  virginica\n",
       "149           5.9          3.0           5.1          1.8  virginica\n",
       "\n",
       "[150 rows x 5 columns]"
      ]
     },
     "metadata": {},
     "output_type": "display_data"
    }
   ],
   "source": [
    "# Read CSV\n",
    "df = pd.read_csv('https://raw.githubusercontent.com/catharinamega/Data-Mining-ISB-2020/main/Week%204/iris.csv')\n",
    "display(df.head(150))"
   ]
  },
  {
   "cell_type": "markdown",
   "metadata": {
    "id": "hv8_UYnnBTYx"
   },
   "source": [
    "## Data Preprocessing"
   ]
  },
  {
   "cell_type": "markdown",
   "metadata": {
    "id": "shWWY2QSGewj"
   },
   "source": [
    "Periksa apakah ada baris yang duplikat\n",
    "\n"
   ]
  },
  {
   "cell_type": "code",
   "execution_count": 67,
   "metadata": {
    "colab": {
     "base_uri": "https://localhost:8080/"
    },
    "id": "wJ6hGSssFRBC",
    "outputId": "116192b4-8222-4830-e17e-bfd0bcd9c01f"
   },
   "outputs": [
    {
     "name": "stdout",
     "output_type": "stream",
     "text": [
      "True\n",
      "     sepal_length  sepal_width  petal_length  petal_width    species\n",
      "34            4.9          3.1           1.5          0.1     setosa\n",
      "37            4.9          3.1           1.5          0.1     setosa\n",
      "142           5.8          2.7           5.1          1.9  virginica\n",
      "False\n",
      "Empty DataFrame\n",
      "Columns: [sepal_length, sepal_width, petal_length, petal_width, species]\n",
      "Index: []\n"
     ]
    }
   ],
   "source": [
    "print(df.duplicated().any())\n",
    "print(df[df.duplicated()])\n",
    "df = df.drop_duplicates()\n",
    "print(df.duplicated().any())\n",
    "print(df[df.duplicated()])"
   ]
  },
  {
   "cell_type": "markdown",
   "metadata": {
    "id": "vSvEybiKLomQ"
   },
   "source": [
    "Periksa apakah ada missing values"
   ]
  },
  {
   "cell_type": "code",
   "execution_count": 68,
   "metadata": {
    "colab": {
     "base_uri": "https://localhost:8080/"
    },
    "id": "RlNt-lKmLw_X",
    "outputId": "d1e322ef-6681-4f1a-a542-c563af6601b2"
   },
   "outputs": [
    {
     "name": "stdout",
     "output_type": "stream",
     "text": [
      "sepal_length    False\n",
      "sepal_width     False\n",
      "petal_length    False\n",
      "petal_width     False\n",
      "species         False\n",
      "dtype: bool\n"
     ]
    }
   ],
   "source": [
    "print(df.isna().any())"
   ]
  },
  {
   "cell_type": "markdown",
   "metadata": {
    "id": "6Q8ZWmLAID5m"
   },
   "source": [
    "# Periksa outlier dengan boxplot untuk setiap kolom feature"
   ]
  },
  {
   "cell_type": "code",
   "execution_count": 69,
   "metadata": {},
   "outputs": [
    {
     "data": {
      "image/png": "[encoded data removed]",
      "text/plain": [
       "<Figure size 864x576 with 4 Axes>"
      ]
     },
     "metadata": {
      "needs_background": "light"
     },
     "output_type": "display_data"
    }
   ],
   "source": [
    "fig, axes = plt.subplots(2, 2, figsize=(12, 8))\n",
    "\n",
    "# Boxplot 1 - Sepal Length\n",
    "sns.boxplot(ax=axes[0, 0], x='species', y='sepal_length', data=df)\n",
    "axes[0, 0].set_xlabel('Species')\n",
    "axes[0, 0].set_ylabel('Sepal Length')\n",
    "axes[0, 0].set_title('Boxplot Sepal Length Berdasarkan Species')\n",
    "\n",
    "# Boxplot 2 - Petal Length\n",
    "sns.boxplot(ax=axes[0, 1], x='species', y='petal_length', data=df)\n",
    "axes[0, 1].set_xlabel('Species')\n",
    "axes[0, 1].set_ylabel('Petal Length')\n",
    "axes[0, 1].set_title('Boxplot Petal Length Berdasarkan Species')\n",
    "\n",
    "# Boxplot 3 - Sepal Width\n",
    "sns.boxplot(ax=axes[1, 0], x='species', y='sepal_width', data=df)\n",
    "axes[1, 0].set_xlabel('Species')\n",
    "axes[1, 0].set_ylabel('Sepal Width')\n",
    "axes[1, 0].set_title('Boxplot Sepal Width Berdasarkan Species')\n",
    "\n",
    "# Boxplot 4 - Petal Width\n",
    "sns.boxplot(ax=axes[1, 1], x='species', y='petal_width', data=df)\n",
    "axes[1, 1].set_xlabel('Species')\n",
    "axes[1, 1].set_ylabel('Petal Width')\n",
    "axes[1, 1].set_title('Boxplot Petal Width Berdasarkan Species')\n",
    "\n",
    "plt.tight_layout()\n",
    "plt.show()"
   ]
  },
  {
   "cell_type": "markdown",
   "metadata": {
    "id": "x1Jp_nX3DoIN"
   },
   "source": [
    "Pisahkan dataset menjadi variabel independen dan variabel dependen"
   ]
  },
  {
   "cell_type": "code",
   "execution_count": 70,
   "metadata": {
    "id": "1AAkxvSgB4ao"
   },
   "outputs": [],
   "source": [
    "x = df.drop(['species'], axis = 1)\n",
    "y = df.species"
   ]
  },
  {
   "cell_type": "markdown",
   "metadata": {
    "id": "tM7meP78DvRO"
   },
   "source": [
    "Pisahkan dataset train dan test dataset, dengan ukuran dataset test 0.1"
   ]
  },
  {
   "cell_type": "code",
   "execution_count": 71,
   "metadata": {
    "id": "FFg5hkAMEyCo"
   },
   "outputs": [],
   "source": [
    "from sklearn.model_selection import train_test_split\n",
    "X_train, X_test, Y_train, Y_test = train_test_split(x, y, test_size = 0.1, random_state = 0)"
   ]
  },
  {
   "cell_type": "markdown",
   "metadata": {
    "id": "i8kBslhcGv3A"
   },
   "source": [
    "Lakukan fitur scaling pada variabel X_train dan X_test. "
   ]
  },
  {
   "cell_type": "code",
   "execution_count": 72,
   "metadata": {
    "id": "AiCPrBd4JyDf"
   },
   "outputs": [],
   "source": [
    "from sklearn.preprocessing import StandardScaler\n",
    "scaler = StandardScaler()\n",
    "\n",
    "# Fit dan transformasi (scaling) pada X_train\n",
    "X_train_scaled = scaler.fit_transform(X_train)\n",
    "\n",
    "# Transformasi (scaling) pada X_test\n",
    "X_test_scaled = scaler.transform(X_test)"
   ]
  },
  {
   "cell_type": "markdown",
   "metadata": {
    "id": "M9Wnfyt7ApS7"
   },
   "source": [
    "#Logistic Regression"
   ]
  },
  {
   "cell_type": "markdown",
   "metadata": {
    "id": "mN-9NfADFAmn"
   },
   "source": [
    "Bangun model dan ukur accuracy nya"
   ]
  },
  {
   "cell_type": "code",
   "execution_count": 73,
   "metadata": {
    "colab": {
     "base_uri": "https://localhost:8080/"
    },
    "id": "7nNOFcp_FETB",
    "outputId": "d7ccedd7-3984-4042-db0a-91e8eda9dba1"
   },
   "outputs": [
    {
     "data": {
      "text/plain": [
       "LogisticRegression()"
      ]
     },
     "execution_count": 73,
     "metadata": {},
     "output_type": "execute_result"
    }
   ],
   "source": [
    "logreg = LogisticRegression()\n",
    "logreg.fit(X_train_scaled, Y_train)"
   ]
  },
  {
   "cell_type": "markdown",
   "metadata": {
    "id": "zZyes8UOVhsy"
   },
   "source": [
    "Uji model dengan dataset test"
   ]
  },
  {
   "cell_type": "code",
   "execution_count": 76,
   "metadata": {
    "colab": {
     "base_uri": "https://localhost:8080/"
    },
    "id": "W1W8JtIXVlRF",
    "outputId": "725e39b6-f43e-4ac4-c006-f49aff2570ab"
   },
   "outputs": [
    {
     "name": "stdout",
     "output_type": "stream",
     "text": [
      "['setosa' 'setosa' 'setosa' 'virginica' 'virginica' 'versicolor' 'setosa'\n",
      " 'setosa' 'virginica' 'setosa' 'setosa' 'versicolor' 'versicolor'\n",
      " 'versicolor' 'versicolor']\n"
     ]
    }
   ],
   "source": [
    "y_pred_logreg = logreg.predict(X_test_scaled)\n",
    "print(y_pred_logreg)"
   ]
  },
  {
   "cell_type": "code",
   "execution_count": 77,
   "metadata": {
    "colab": {
     "base_uri": "https://localhost:8080/"
    },
    "id": "62aDHBp_O_rp",
    "outputId": "6786194d-7d06-4842-e8b7-8793c0c95c23"
   },
   "outputs": [
    {
     "name": "stdout",
     "output_type": "stream",
     "text": [
      "Confusion Matrix\n",
      " [[7 0 0]\n",
      " [0 4 0]\n",
      " [0 1 3]]\n",
      "0.9333\n"
     ]
    }
   ],
   "source": [
    "cm = confusion_matrix(Y_test, y_pred_logreg)\n",
    "print(\"Confusion Matrix\\n\", cm)\n",
    "\n",
    "accuracy_logreg = accuracy_score(Y_test, y_pred_logreg)\n",
    "accuracy_logreg = '{:,.4f}'.format(accuracy_logreg)\n",
    "print(accuracy_logreg)"
   ]
  },
  {
   "cell_type": "markdown",
   "metadata": {
    "id": "SS6eNQWKLdpn"
   },
   "source": [
    "# Naive Bayes\n",
    "\n",
    "Buat model persamaan berdasarkan data training yang sudah dibuat pada tahap preprocess"
   ]
  },
  {
   "cell_type": "code",
   "execution_count": 78,
   "metadata": {
    "colab": {
     "base_uri": "https://localhost:8080/"
    },
    "id": "tKgc72ocP3IB",
    "outputId": "8fe5dd58-3f84-4d0c-b04f-8f7fe444dda6"
   },
   "outputs": [
    {
     "data": {
      "text/plain": [
       "GaussianNB()"
      ]
     },
     "execution_count": 78,
     "metadata": {},
     "output_type": "execute_result"
    }
   ],
   "source": [
    "Gaussian  = GaussianNB()\n",
    "Gaussian.fit(X_train_scaled, Y_train)"
   ]
  },
  {
   "cell_type": "markdown",
   "metadata": {
    "id": "4kjfj39PQch0"
   },
   "source": [
    "Uji hasil model dengan data test"
   ]
  },
  {
   "cell_type": "code",
   "execution_count": 79,
   "metadata": {
    "colab": {
     "base_uri": "https://localhost:8080/"
    },
    "id": "XlKc_hcrQiwS",
    "outputId": "c03d4b2a-6964-4cce-be56-268ca473ebeb"
   },
   "outputs": [
    {
     "name": "stdout",
     "output_type": "stream",
     "text": [
      "['setosa' 'setosa' 'setosa' 'virginica' 'virginica' 'versicolor' 'setosa'\n",
      " 'setosa' 'virginica' 'setosa' 'setosa' 'versicolor' 'versicolor'\n",
      " 'versicolor' 'versicolor']\n"
     ]
    }
   ],
   "source": [
    "y_pred_gaussian = Gaussian.predict(X_test_scaled)\n",
    "print(y_pred_gaussian)"
   ]
  },
  {
   "cell_type": "markdown",
   "metadata": {
    "id": "BVSh48SQQsAy"
   },
   "source": [
    "Ukur akurasi dari model persamaan Naive Bayes Classifier"
   ]
  },
  {
   "cell_type": "code",
   "execution_count": 80,
   "metadata": {
    "colab": {
     "base_uri": "https://localhost:8080/"
    },
    "id": "wH6jeQxqQjYo",
    "outputId": "e648a302-804f-4aa9-ff70-dd8556cf8b4d"
   },
   "outputs": [
    {
     "name": "stdout",
     "output_type": "stream",
     "text": [
      "Confusion Matrix\n",
      " [[7 0 0]\n",
      " [0 4 0]\n",
      " [0 1 3]]\n",
      "0.9333\n"
     ]
    }
   ],
   "source": [
    "cm = confusion_matrix(Y_test, y_pred_gaussian)\n",
    "print(\"Confusion Matrix\\n\", cm)\n",
    "\n",
    "accuracy_gaussian = accuracy_score(Y_test, y_pred_gaussian)\n",
    "accuracy_gaussian = '{:,.4f}'.format(accuracy_gaussian)\n",
    "print(accuracy_gaussian)"
   ]
  },
  {
   "cell_type": "markdown",
   "metadata": {
    "id": "WIB_g5-BRSsu"
   },
   "source": [
    "# K-Nearest Neighbour (K-NN) Classifier"
   ]
  },
  {
   "cell_type": "markdown",
   "metadata": {
    "id": "WwzQ0Xo5Rexr"
   },
   "source": [
    "Buatlah model KNN berdasarkan data training yang sudah dibuat di tahap preprocess, gunakan metric pengukuran jarak 'euclidean'"
   ]
  },
  {
   "cell_type": "code",
   "execution_count": 81,
   "metadata": {
    "colab": {
     "base_uri": "https://localhost:8080/"
    },
    "id": "_ESV58YzRQe4",
    "outputId": "25530154-99e7-4552-b849-0a2d473f18c5"
   },
   "outputs": [
    {
     "data": {
      "text/plain": [
       "KNeighborsClassifier(metric='euclidean')"
      ]
     },
     "execution_count": 81,
     "metadata": {},
     "output_type": "execute_result"
    }
   ],
   "source": [
    "KNN = KNeighborsClassifier(n_neighbors=5, metric='euclidean')\n",
    "# Latih model K-NN menggunakan data pelatihan yang telah di-scaling\n",
    "KNN.fit(X_train_scaled, Y_train)"
   ]
  },
  {
   "cell_type": "markdown",
   "metadata": {
    "id": "JvkdoXUpTYmA"
   },
   "source": [
    "Uji model dengan data test"
   ]
  },
  {
   "cell_type": "code",
   "execution_count": 82,
   "metadata": {
    "colab": {
     "base_uri": "https://localhost:8080/"
    },
    "id": "jcmAu9Y2TcME",
    "outputId": "432c128c-3a16-46c8-8467-fa48bf6e40fc"
   },
   "outputs": [
    {
     "name": "stdout",
     "output_type": "stream",
     "text": [
      "['setosa' 'setosa' 'setosa' 'virginica' 'virginica' 'versicolor' 'setosa'\n",
      " 'setosa' 'virginica' 'setosa' 'setosa' 'versicolor' 'versicolor'\n",
      " 'versicolor' 'versicolor']\n"
     ]
    }
   ],
   "source": [
    "y_pred_knn = Gaussian.predict(X_test_scaled)\n",
    "print(y_pred_knn)"
   ]
  },
  {
   "cell_type": "markdown",
   "metadata": {
    "id": "jOGui9qYRxMv"
   },
   "source": [
    "Ukur akurasi dari model K-Nearest Neighbor"
   ]
  },
  {
   "cell_type": "code",
   "execution_count": 83,
   "metadata": {
    "colab": {
     "base_uri": "https://localhost:8080/"
    },
    "id": "lLMIOnTJS37y",
    "outputId": "74dcd0a0-8b6a-4e2a-fd50-9d0ace20b934"
   },
   "outputs": [
    {
     "name": "stdout",
     "output_type": "stream",
     "text": [
      "Confusion Matrix\n",
      " [[7 0 0]\n",
      " [0 4 0]\n",
      " [0 1 3]]\n",
      "0.9333\n"
     ]
    }
   ],
   "source": [
    "cm = confusion_matrix(Y_test, y_pred_knn)\n",
    "print(\"Confusion Matrix\\n\", cm)\n",
    "\n",
    "accuracy_knn = accuracy_score(Y_test, y_pred_knn)\n",
    "accuracy_knn = '{:,.4f}'.format(accuracy_knn)\n",
    "print(accuracy_knn)"
   ]
  },
  {
   "cell_type": "code",
   "execution_count": 84,
   "metadata": {},
   "outputs": [
    {
     "name": "stdout",
     "output_type": "stream",
     "text": [
      "Accuracy Score Logistic Regression : 0.9333\n",
      "Accuracy Score Naives Bayes : 0.9333\n",
      "Accuracy Score K-NN Classifier : 0.9333\n"
     ]
    }
   ],
   "source": [
    "print(\"Accuracy Score Logistic Regression :\", accuracy_logreg)\n",
    "print(\"Accuracy Score Naives Bayes :\", accuracy_gaussian)\n",
    "print(\"Accuracy Score K-NN Classifier :\", accuracy_knn)"
   ]
  },
  {
   "cell_type": "markdown",
   "metadata": {
    "id": "NSHLmIIeT3jP"
   },
   "source": [
    "#Kesimpulan\n",
    "Dari 3 model klasifikasi di atasadalah model klasifikasi dengan akurasi tertinggi karena memiliki accuracy score tertinggi TIDAK ADA karena memiliki nilai yang sama yaitu 0.9333"
   ]
  },
  {
   "cell_type": "code",
   "execution_count": null,
   "metadata": {},
   "outputs": [],
   "source": []
  }
 ],
 "metadata": {
  "colab": {
   "collapsed_sections": [],
   "provenance": [],
   "toc_visible": true
  },
  "kernelspec": {
   "display_name": "Python 3 (ipykernel)",
   "language": "python",
   "name": "python3"
  },
  "language_info": {
   "codemirror_mode": {
    "name": "ipython",
    "version": 3
   },
   "file_extension": ".py",
   "mimetype": "text/x-python",
   "name": "python",
   "nbconvert_exporter": "python",
   "pygments_lexer": "ipython3",
   "version": "3.9.12"
  }
 },
 "nbformat": 4,
 "nbformat_minor": 1
}
